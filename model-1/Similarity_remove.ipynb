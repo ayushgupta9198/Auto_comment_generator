{
 "cells": [
  {
   "cell_type": "code",
   "execution_count": 1,
   "id": "ebcf39cd",
   "metadata": {},
   "outputs": [],
   "source": [
    "import pandas as pd"
   ]
  },
  {
   "cell_type": "code",
   "execution_count": 2,
   "id": "c463c0e3",
   "metadata": {},
   "outputs": [],
   "source": [
    "from main import main"
   ]
  },
  {
   "cell_type": "code",
   "execution_count": 3,
   "id": "675951d7",
   "metadata": {},
   "outputs": [],
   "source": [
    "# df1=pd.read_csv(\"11.txt\",names=[\"question\"],sep=\"/n\")"
   ]
  },
  {
   "cell_type": "code",
   "execution_count": 265,
   "id": "c5b79dc2",
   "metadata": {},
   "outputs": [
    {
     "name": "stdout",
     "output_type": "stream",
     "text": [
      "Warning: parsing empty text\n",
      "Warning: parsing empty text\n",
      "Warning: parsing empty text\n",
      "Warning: parsing empty text\n",
      "Warning: parsing empty text\n",
      "Warning: parsing empty text\n",
      "Warning: parsing empty text\n",
      "Warning: parsing empty text\n",
      "Warning: parsing empty text\n",
      "Warning: parsing empty text\n",
      "Warning: parsing empty text\n",
      "Warning: parsing empty text\n",
      "Warning: parsing empty text\n",
      "Warning: parsing empty text\n",
      "Warning: parsing empty text\n",
      "Warning: parsing empty text\n",
      "Warning: parsing empty text\n",
      "Warning: parsing empty text\n",
      "Warning: parsing empty text\n",
      "Warning: parsing empty text\n",
      "\n",
      "\n",
      "------X------\n",
      "Start  output:\n",
      "\n",
      "\n",
      "End  OutPut\n",
      "-----X-----\n",
      "\n",
      "\n"
     ]
    }
   ],
   "source": [
    "p=main(\"DB/1.txt\")"
   ]
  },
  {
   "cell_type": "markdown",
   "id": "25063481",
   "metadata": {},
   "source": [
    "# Spliting text"
   ]
  },
  {
   "cell_type": "code",
   "execution_count": 271,
   "id": "23c81ace",
   "metadata": {},
   "outputs": [],
   "source": [
    "m=[]\n",
    "for i in p:\n",
    "    k=i[:-3].strip()\n",
    "    k=k.replace(\"’ S\", \"’s\").replace(\"’ s\", \"’s\").replace(\"’ t\", \"’t\")\n",
    "    m.append(k)"
   ]
  },
  {
   "cell_type": "code",
   "execution_count": 267,
   "id": "3c86b339",
   "metadata": {},
   "outputs": [
    {
     "data": {
      "text/plain": [
       "85"
      ]
     },
     "execution_count": 267,
     "metadata": {},
     "output_type": "execute_result"
    }
   ],
   "source": [
    "len(m)"
   ]
  },
  {
   "cell_type": "code",
   "execution_count": 268,
   "id": "a57e671b",
   "metadata": {},
   "outputs": [],
   "source": [
    "i=0\n",
    "l=[]\n",
    "while i < len(m):\n",
    "    k=m[i]\n",
    "    for w in k.split(\" \"):\n",
    "        if len(w)==1 and w.isalpha():\n",
    "            if w != \"a\" :\n",
    "                if w != \"i\": \n",
    "                    l.append(i)\n",
    "                    break\n",
    "          \n",
    "    i += 1\n",
    "m = [i for j, i in enumerate(m) if j not in l]"
   ]
  },
  {
   "cell_type": "markdown",
   "id": "b4534480",
   "metadata": {},
   "source": [
    "# load files"
   ]
  },
  {
   "cell_type": "code",
   "execution_count": 269,
   "id": "7dd1811b",
   "metadata": {},
   "outputs": [],
   "source": [
    "df =pd.read_csv(\"DB/comment_1.csv\")\n",
    "# df2 =pd.read_csv(\"comment_2.csv\")\n"
   ]
  },
  {
   "cell_type": "code",
   "execution_count": 270,
   "id": "24996f25",
   "metadata": {},
   "outputs": [
    {
     "name": "stdout",
     "output_type": "stream",
     "text": [
      "1 :   So what will each pass come with a serial number can prove that they have the right to early access to all the features\n",
      "2 :   You have a very pleasant article. I enjoyed reading your post, and it has an exceptionally decent share. I am much obliged to share this with\n",
      "3 :   These Alpha passes will provide their holders with exclusive access to try that what will many unique functions – these functions be in addition to any regular function get because Alpha pass Nft holders get to try them first\n",
      "4 :   Thank you for your useful instruction and we want more.\n",
      "5 :   And trying trying in the Xana metaverse\n",
      "6 :   very Good... i really like your blog...\n",
      "7 :   Into what did and entered for Xana ’s presale\n",
      "8 :   Really very happy to sayyour post is very interesting to read.I never stop myself to say something about it.You’re doing a great job.Keep it up\n",
      "9 :   Alongside what exclusive Alpha access pass Nfts\n",
      "10 :   I am in fact Thankful to the owner of this site who has shred this impressive article.\n",
      "11 :   It ’s recommended that people also make with what did tweets associated on their own profiles\n",
      "12 :   Great article, check it out.\n",
      "13 :   These Alpha passes will provide their holders with exclusive access to try many unique functions – these functions will be in addition to any regular function that because what do other people get get to try them first\n",
      "14 :   I find your information very interesting.\n",
      "15 :   On what will and more happen until the Tge occurs\n"
     ]
    }
   ],
   "source": [
    "import random\n",
    "test_list=[\"normal_text\",\"paraphase_formal\",\"paraphase_causal\",\"paraphase_passive\",\"paraphase_active\"]\n",
    "\n",
    "for i in range(15):\n",
    "    if(i%2==0):\n",
    "        s=m[random.randint(0, len(m))]\n",
    "    else:\n",
    "        rt = random.choice(test_list)\n",
    "        s=df[rt][random.randint(0, len(df))]\n",
    "    print(i+1,\":  \",s)\n",
    "    \n",
    "  "
   ]
  },
  {
   "cell_type": "markdown",
   "id": "101d9442",
   "metadata": {},
   "source": [
    "# cosine similarity"
   ]
  },
  {
   "cell_type": "code",
   "execution_count": null,
   "id": "f8291c65",
   "metadata": {},
   "outputs": [],
   "source": [
    "import math\n",
    "import re\n",
    "from collections import Counter\n",
    "\n",
    "WORD = re.compile(r\"\\w+\")\n",
    "\n",
    "\n",
    "def get_cosine(vec1, vec2):\n",
    "    intersection = set(vec1.keys()) & set(vec2.keys())\n",
    "    numerator = sum([vec1[x] * vec2[x] for x in intersection])\n",
    "\n",
    "    sum1 = sum([vec1[x] ** 2 for x in list(vec1.keys())])\n",
    "    sum2 = sum([vec2[x] ** 2 for x in list(vec2.keys())])\n",
    "    denominator = math.sqrt(sum1) * math.sqrt(sum2)\n",
    "\n",
    "    if not denominator:\n",
    "        return 0.0\n",
    "    else:\n",
    "        return float(numerator) / denominator\n",
    "\n",
    "\n",
    "def text_to_vector(text):\n",
    "    words = WORD.findall(text)\n",
    "    return Counter(words)"
   ]
  },
  {
   "cell_type": "markdown",
   "id": "7e1b3f32",
   "metadata": {},
   "source": [
    "# Normal test"
   ]
  },
  {
   "cell_type": "code",
   "execution_count": null,
   "id": "aa734f74",
   "metadata": {},
   "outputs": [],
   "source": [
    "text1 = \"It is not just limited to gaming but allows people to live their lives however within what they want ?\"\n",
    "text2 = \"It is not just limited to what people to live however they want within the virtual world ?\"\n",
    "\n",
    "vector1 = text_to_vector(text1)\n",
    "vector2 = text_to_vector(text2)\n",
    "\n",
    "cosine = get_cosine(vector1, vector2)\n",
    "print(\"Cosine:\", cosine)"
   ]
  },
  {
   "cell_type": "markdown",
   "id": "7c1b9461",
   "metadata": {},
   "source": [
    "# Delete same text delete"
   ]
  },
  {
   "cell_type": "code",
   "execution_count": null,
   "id": "ca14c747",
   "metadata": {},
   "outputs": [],
   "source": [
    "for index, row in df.iterrows():\n",
    "        text1=row[\"question\"]\n",
    "        print(text1)\n",
    "        vector1 = text_to_vector(text1)\n",
    "        for j, row in df.iterrows():\n",
    "            if j!=index:\n",
    "                text2=df[\"question\"][j]\n",
    "                vector2 = text_to_vector(text2)\n",
    "                cosine = get_cosine(vector1, vector2)\n",
    "                if cosine > 0.60:\n",
    "                    df.drop([j],inplace=True)\n",
    "                    print(\"done\",text2)\n",
    "       \n"
   ]
  },
  {
   "cell_type": "code",
   "execution_count": null,
   "id": "17e4f553",
   "metadata": {},
   "outputs": [],
   "source": [
    "df"
   ]
  },
  {
   "cell_type": "code",
   "execution_count": null,
   "id": "f14d55f3",
   "metadata": {},
   "outputs": [],
   "source": [
    "len(df['question'])"
   ]
  },
  {
   "cell_type": "code",
   "execution_count": null,
   "id": "643c23a1",
   "metadata": {},
   "outputs": [],
   "source": [
    "df"
   ]
  },
  {
   "cell_type": "markdown",
   "id": "7fc2f3a6",
   "metadata": {},
   "source": [
    "# Delete similar using difflib "
   ]
  },
  {
   "cell_type": "code",
   "execution_count": null,
   "id": "36d351dd",
   "metadata": {},
   "outputs": [],
   "source": [
    "import difflib\n",
    "# Threshold filter based on Percentage similarity\n",
    "thr = 0.60\n",
    "df['Flag'] = 0\n",
    "for text in df['Comment'].tolist():\n",
    "    df['temp'] = [difflib.SequenceMatcher(None, text1,text).ratio() for text1 in df['Comment'].tolist()]\n",
    "    df.loc[df['temp'].gt(thr),['Flag']] = df['Flag'].max()+1\n",
    "df.drop('temp',1)\n",
    "\n",
    "df.loc[~df['Flag'].duplicated(keep='first')]"
   ]
  },
  {
   "cell_type": "code",
   "execution_count": null,
   "id": "2413b8ab",
   "metadata": {},
   "outputs": [],
   "source": [
    "df1=df.loc[~df['Flag'].duplicated(keep='first')][\"Comment\"]"
   ]
  },
  {
   "cell_type": "code",
   "execution_count": null,
   "id": "a34ee2a7",
   "metadata": {},
   "outputs": [],
   "source": [
    "df1"
   ]
  },
  {
   "cell_type": "code",
   "execution_count": null,
   "id": "c1bfc2f1",
   "metadata": {},
   "outputs": [],
   "source": [
    "s.to_csv(\"questions.csv\")"
   ]
  },
  {
   "cell_type": "code",
   "execution_count": null,
   "id": "cbdee4b8",
   "metadata": {},
   "outputs": [],
   "source": []
  }
 ],
 "metadata": {
  "kernelspec": {
   "display_name": "Python 3",
   "language": "python",
   "name": "python3"
  },
  "language_info": {
   "codemirror_mode": {
    "name": "ipython",
    "version": 3
   },
   "file_extension": ".py",
   "mimetype": "text/x-python",
   "name": "python",
   "nbconvert_exporter": "python",
   "pygments_lexer": "ipython3",
   "version": "3.6.9"
  }
 },
 "nbformat": 4,
 "nbformat_minor": 5
}
